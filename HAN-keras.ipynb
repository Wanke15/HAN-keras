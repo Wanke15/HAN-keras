{
 "cells": [
  {
   "cell_type": "code",
   "execution_count": 1,
   "metadata": {},
   "outputs": [],
   "source": [
    "import os\n",
    "os.environ[\"CUDA_VISIBLE_DEVICES\"]='1'"
   ]
  },
  {
   "cell_type": "code",
   "execution_count": 2,
   "metadata": {},
   "outputs": [
    {
     "name": "stderr",
     "output_type": "stream",
     "text": [
      "Using TensorFlow backend.\n"
     ]
    }
   ],
   "source": [
    "import re\n",
    "\n",
    "import numpy as np\n",
    "import pandas as pd\n",
    "from bs4 import BeautifulSoup\n",
    "from keras import backend as K\n",
    "from keras.models import Model\n",
    "from keras import initializers\n",
    "from keras.engine.topology import Layer\n",
    "from keras.layers import Dense, Input\n",
    "from keras.layers import Embedding, GRU, Bidirectional, TimeDistributed\n",
    "from keras.preprocessing.text import Tokenizer, text_to_word_sequence\n",
    "from keras.utils.np_utils import to_categorical\n",
    "from nltk import tokenize\n",
    "import jieba\n",
    "\n",
    "from tqdm import tqdm"
   ]
  },
  {
   "cell_type": "code",
   "execution_count": 3,
   "metadata": {},
   "outputs": [],
   "source": [
    "maxlen = 50\n",
    "max_sentences = 50\n",
    "max_words = 20000\n",
    "embedding_dim = 100\n",
    "validation_split = 0.2\n",
    "reviews = []\n",
    "labels = []\n",
    "texts = []\n",
    "glove_dir = \"./\"\n",
    "embeddings_index = {}\n"
   ]
  },
  {
   "cell_type": "code",
   "execution_count": 4,
   "metadata": {},
   "outputs": [],
   "source": [
    "# class defining the custom attention layer\n",
    "class HierarchicalAttentionNetwork(Layer):\n",
    "    def __init__(self, attention_dim):\n",
    "        self.init = initializers.get('normal')\n",
    "        self.supports_masking = True\n",
    "        self.attention_dim = attention_dim\n",
    "        super(HierarchicalAttentionNetwork, self).__init__()\n",
    "\n",
    "    def build(self, input_shape):\n",
    "        assert len(input_shape) == 3\n",
    "        self.W = K.variable(self.init((input_shape[-1], self.attention_dim)))\n",
    "        self.b = K.variable(self.init((self.attention_dim,)))\n",
    "        self.u = K.variable(self.init((self.attention_dim, 1)))\n",
    "        self.trainable_weights = [self.W, self.b, self.u]\n",
    "        super(HierarchicalAttentionNetwork, self).build(input_shape)\n",
    "\n",
    "    def compute_mask(self, inputs, mask=None):\n",
    "        return mask\n",
    "\n",
    "    def call(self, x, mask=None):\n",
    "        # size of x :[batch_size, sel_len, attention_dim]\n",
    "        # size of u :[batch_size, attention_dim]\n",
    "        # uit = tanh(xW+b)\n",
    "        uit = K.tanh(K.bias_add(K.dot(x, self.W), self.b))\n",
    "\n",
    "        ait = K.exp(K.squeeze(K.dot(uit, self.u), -1))\n",
    "\n",
    "        if mask is not None:\n",
    "            # Cast the mask to floatX to avoid float64 upcasting\n",
    "            ait *= K.cast(mask, K.floatx())\n",
    "        ait /= K.cast(K.sum(ait, axis=1, keepdims=True) + K.epsilon(), K.floatx())\n",
    "        weighted_input = x * K.expand_dims(ait)\n",
    "        output = K.sum(weighted_input, axis=1)\n",
    "\n",
    "        return output\n",
    "\n",
    "    def compute_output_shape(self, input_shape):\n",
    "        return input_shape[0], input_shape[-1]\n",
    "    \n",
    "    def _get_attention_weights(self, X):\n",
    "\n",
    "        uit = K.tanh(K.bias_add(K.dot(X, self.W), self.b))\n",
    "        ait = K.dot(uit, self.u)\n",
    "        ait = K.squeeze(ait, -1)\n",
    "        ait = K.exp(ait)\n",
    "        ait /= K.cast(K.sum(ait, axis=1, keepdims=True) + K.epsilon(), K.floatx())\n",
    "        ait = K.expand_dims(ait)\n",
    "        return ait"
   ]
  },
  {
   "cell_type": "code",
   "execution_count": 5,
   "metadata": {},
   "outputs": [],
   "source": [
    "def remove_html(str_a):\n",
    "    p = re.compile(r'<.*?>')\n",
    "    return p.sub('', str_a)\n",
    "\n",
    "\n",
    "# replace all non-ASCII (\\x00-\\x7F) characters with a space\n",
    "def replace_non_ascii(str_a):\n",
    "    return re.sub(r'[^\\x00-\\x7f]', r'', str_a)\n",
    "\n",
    "\n",
    "# Tokenization/string cleaning for dataset\n",
    "def clean_str(string):\n",
    "    string = re.sub(r\"\\\\\", \"\", string)\n",
    "    string = re.sub(r\"\\'\", \"\", string)\n",
    "    string = re.sub(r\"\\\"\", \"\", string)\n",
    "    return string.strip().lower()\n",
    "\n",
    "\n",
    "import re\n",
    "\n",
    "def cut_sent(para):\n",
    "    para = re.sub('([。！？\\?])([^”’])', r\"\\1\\n\\2\", para)  # 单字符断句符\n",
    "    para = re.sub('(\\.{6})([^”’])', r\"\\1\\n\\2\", para)  # 英文省略号\n",
    "    para = re.sub('(\\…{2})([^”’])', r\"\\1\\n\\2\", para)  # 中文省略号\n",
    "    para = re.sub('([。！？\\?][”’])([^，。！？\\?])', r'\\1\\n\\2', para)\n",
    "    # 如果双引号前有终止符，那么双引号才是句子的终点，把分句符\\n放到双引号后，注意前面的几句都小心保留了双引号\n",
    "    para = para.rstrip()  # 段尾如果有多余的\\n就去掉它\n",
    "    # 很多规则中会考虑分号;，但是这里我把它忽略不计，破折号、英文双引号等同样忽略，需要的再做些简单调整即可。\n",
    "    final_splits = [_ for _ in para.split(\"\\n\") if _]\n",
    "    return final_splits"
   ]
  },
  {
   "cell_type": "code",
   "execution_count": 9,
   "metadata": {},
   "outputs": [],
   "source": [
    "input_data = pd.read_csv('thucnews_all.csv').sample(20000)"
   ]
  },
  {
   "cell_type": "code",
   "execution_count": 90,
   "metadata": {},
   "outputs": [
    {
     "data": {
      "text/plain": [
       "8     3954\n",
       "4     3701\n",
       "11    3102\n",
       "12    2228\n",
       "7     1540\n",
       "3     1237\n",
       "5     1019\n",
       "6      865\n",
       "9      758\n",
       "2      559\n",
       "1      467\n",
       "10     309\n",
       "0      185\n",
       "13      76\n",
       "Name: label, dtype: int64"
      ]
     },
     "execution_count": 90,
     "metadata": {},
     "output_type": "execute_result"
    }
   ],
   "source": [
    "input_data.label.value_counts()"
   ]
  },
  {
   "cell_type": "code",
   "execution_count": 11,
   "metadata": {},
   "outputs": [
    {
     "data": {
      "text/plain": [
       "(20000, 2)"
      ]
     },
     "execution_count": 11,
     "metadata": {},
     "output_type": "execute_result"
    }
   ],
   "source": [
    "input_data.shape"
   ]
  },
  {
   "cell_type": "code",
   "execution_count": 15,
   "metadata": {},
   "outputs": [],
   "source": [
    "# input_data.index"
   ]
  },
  {
   "cell_type": "code",
   "execution_count": 14,
   "metadata": {
    "scrolled": true
   },
   "outputs": [
    {
     "name": "stderr",
     "output_type": "stream",
     "text": [
      "  0%|          | 0/20000 [00:00<?, ?it/s]Building prefix dict from the default dictionary ...\n",
      "Loading model from cache /tmp/jieba.cache\n",
      "Loading model cost 0.851 seconds.\n",
      "Prefix dict has been built successfully.\n",
      "100%|██████████| 20000/20000 [01:29<00:00, 223.23it/s]\n"
     ]
    }
   ],
   "source": [
    "for idx in tqdm(input_data.index):\n",
    "    text = ' '.join(jieba.lcut(input_data.text[idx]))\n",
    "    texts.append(text)\n",
    "    sentences = cut_sent(text)\n",
    "    reviews.append(sentences)\n",
    "    labels.append(input_data.label[idx])\n",
    "\n",
    "tokenizer = Tokenizer(num_words=max_words)\n",
    "tokenizer.fit_on_texts(texts)"
   ]
  },
  {
   "cell_type": "code",
   "execution_count": 17,
   "metadata": {},
   "outputs": [
    {
     "data": {
      "text/plain": [
       "'高画质 逐行 扫面   松下 TM700 促销价 6800 元   作者 ： 李金昊   北京 行情   松下 TM700 是 一款 拥有 3MOS 感光 元件 的 高清 双模 存储 数码 摄像机 产品 。'"
      ]
     },
     "execution_count": 17,
     "metadata": {},
     "output_type": "execute_result"
    }
   ],
   "source": [
    "sentences[0]"
   ]
  },
  {
   "cell_type": "code",
   "execution_count": 16,
   "metadata": {},
   "outputs": [
    {
     "name": "stderr",
     "output_type": "stream",
     "text": [
      "20000it [01:49, 182.82it/s]"
     ]
    },
    {
     "name": "stdout",
     "output_type": "stream",
     "text": [
      "Total 228844 unique tokens.\n"
     ]
    },
    {
     "name": "stderr",
     "output_type": "stream",
     "text": [
      "\n"
     ]
    }
   ],
   "source": [
    "data = np.zeros((len(texts), max_sentences, maxlen), dtype='int32')\n",
    "\n",
    "for i, sentences in tqdm(enumerate(reviews)):\n",
    "    for j, sent in enumerate(sentences):\n",
    "        if j < max_sentences:\n",
    "            wordTokens = [_ for _ in sent.split() if _.strip()]\n",
    "            k = 0\n",
    "            for _, word in enumerate(wordTokens):\n",
    "                if word not in tokenizer.word_index:\n",
    "                    continue\n",
    "                if k < maxlen and tokenizer.word_index[word] < max_words:\n",
    "                    data[i, j, k] = tokenizer.word_index[word]\n",
    "                    k = k + 1\n",
    "\n",
    "word_index = tokenizer.word_index\n",
    "print('Total %s unique tokens.' % len(word_index))"
   ]
  },
  {
   "cell_type": "code",
   "execution_count": 18,
   "metadata": {},
   "outputs": [
    {
     "name": "stdout",
     "output_type": "stream",
     "text": [
      "Shape of reviews (data) tensor: (20000, 50, 50)\n",
      "Shape of sentiment (label) tensor: (20000, 14)\n",
      "Number of positive and negative reviews in training and validation set\n",
      "[ 146.  367.  448.  999. 2938.  800.  696. 1239. 3147.  615.  248. 2508.\n",
      " 1789.   60.]\n",
      "[ 39. 100. 111. 238. 763. 219. 169. 301. 807. 143.  61. 594. 439.  16.]\n"
     ]
    }
   ],
   "source": [
    "labels = to_categorical(np.asarray(labels))\n",
    "print('Shape of reviews (data) tensor:', data.shape)\n",
    "print('Shape of sentiment (label) tensor:', labels.shape)\n",
    "\n",
    "indices = np.arange(data.shape[0])\n",
    "np.random.shuffle(indices)\n",
    "data = data[indices]\n",
    "labels = labels[indices]\n",
    "nb_validation_samples = int(validation_split * data.shape[0])\n",
    "\n",
    "x_train = data[:-nb_validation_samples]\n",
    "y_train = labels[:-nb_validation_samples]\n",
    "x_val = data[-nb_validation_samples:]\n",
    "y_val = labels[-nb_validation_samples:]\n",
    "\n",
    "print('Number of positive and negative reviews in training and validation set')\n",
    "print(y_train.sum(axis=0))\n",
    "print(y_val.sum(axis=0))\n"
   ]
  },
  {
   "cell_type": "code",
   "execution_count": null,
   "metadata": {},
   "outputs": [],
   "source": [
    "# f = open(os.path.join(glove_dir, 'glove.6B.100d.txt'))\n",
    "# for line in f:\n",
    "#     values = line.split()\n",
    "#     word = values[0]\n",
    "#     coefs = np.asarray(values[1:], dtype='float32')\n",
    "#     embeddings_index[word] = coefs\n",
    "# f.close()\n",
    "\n",
    "# print('Total %s word vectors.' % len(embeddings_index))"
   ]
  },
  {
   "cell_type": "code",
   "execution_count": 19,
   "metadata": {},
   "outputs": [
    {
     "name": "stdout",
     "output_type": "stream",
     "text": [
      "WARNING:tensorflow:From /data/bigData/wangke/atten_ocr_venv/lib/python3.5/site-packages/keras/backend/tensorflow_backend.py:68: The name tf.get_default_graph is deprecated. Please use tf.compat.v1.get_default_graph instead.\n",
      "\n"
     ]
    }
   ],
   "source": [
    "# building Hierachical Attention network\n",
    "# embedding_matrix = np.random.random((len(word_index) + 1, embedding_dim))\n",
    "# for word, i in word_index.items():\n",
    "#     embedding_vector = embeddings_index.get(word)\n",
    "#     if embedding_vector is not None:\n",
    "#         # words not found in embedding index will be all-zeros.\n",
    "#         embedding_matrix[i] = embedding_vector\n",
    "\n",
    "embedding_layer = Embedding(len(word_index) + 1, embedding_dim,\n",
    "                            input_length=maxlen, trainable=True, mask_zero=True)"
   ]
  },
  {
   "cell_type": "code",
   "execution_count": 21,
   "metadata": {},
   "outputs": [],
   "source": [
    "# type(sentenceEncoder)"
   ]
  },
  {
   "cell_type": "code",
   "execution_count": 30,
   "metadata": {},
   "outputs": [],
   "source": [
    "sentence_input = Input(shape=(maxlen,), dtype='int32')\n",
    "embedded_sequences = embedding_layer(sentence_input)\n",
    "lstm_word = Bidirectional(GRU(25, return_sequences=True))(embedded_sequences)\n",
    "attn_word = HierarchicalAttentionNetwork(20)(lstm_word)\n",
    "sentenceEncoder = Model(sentence_input, attn_word)\n",
    "\n",
    "review_input = Input(shape=(max_sentences, maxlen), dtype='int32')\n",
    "review_encoder = TimeDistributed(sentenceEncoder)(review_input)\n",
    "lstm_sentence = Bidirectional(GRU(25, return_sequences=True))(review_encoder)\n",
    "attn_sentence = HierarchicalAttentionNetwork(20)(lstm_sentence)\n",
    "preds = Dense(y_train.shape[1], activation='softmax')(attn_sentence)\n",
    "model = Model(review_input, preds)\n",
    "\n",
    "model.compile(loss='categorical_crossentropy', optimizer='adam', metrics=['acc'])"
   ]
  },
  {
   "cell_type": "code",
   "execution_count": 31,
   "metadata": {},
   "outputs": [
    {
     "name": "stdout",
     "output_type": "stream",
     "text": [
      "_________________________________________________________________\n",
      "Layer (type)                 Output Shape              Param #   \n",
      "=================================================================\n",
      "input_3 (InputLayer)         (None, 50)                0         \n",
      "_________________________________________________________________\n",
      "embedding_1 (Embedding)      (None, 50, 100)           22884500  \n",
      "_________________________________________________________________\n",
      "bidirectional_3 (Bidirection (None, 50, 50)            18900     \n",
      "_________________________________________________________________\n",
      "hierarchical_attention_netwo (None, 50)                1040      \n",
      "=================================================================\n",
      "Total params: 22,904,440\n",
      "Trainable params: 22,904,440\n",
      "Non-trainable params: 0\n",
      "_________________________________________________________________\n"
     ]
    }
   ],
   "source": [
    "sentenceEncoder.summary()"
   ]
  },
  {
   "cell_type": "code",
   "execution_count": 32,
   "metadata": {},
   "outputs": [
    {
     "name": "stdout",
     "output_type": "stream",
     "text": [
      "_________________________________________________________________\n",
      "Layer (type)                 Output Shape              Param #   \n",
      "=================================================================\n",
      "input_4 (InputLayer)         (None, 50, 50)            0         \n",
      "_________________________________________________________________\n",
      "time_distributed_2 (TimeDist (None, 50, 50)            22904440  \n",
      "_________________________________________________________________\n",
      "bidirectional_4 (Bidirection (None, 50, 50)            11400     \n",
      "_________________________________________________________________\n",
      "hierarchical_attention_netwo (None, 50)                1040      \n",
      "_________________________________________________________________\n",
      "dense_2 (Dense)              (None, 14)                714       \n",
      "=================================================================\n",
      "Total params: 22,917,594\n",
      "Trainable params: 22,917,594\n",
      "Non-trainable params: 0\n",
      "_________________________________________________________________\n"
     ]
    }
   ],
   "source": [
    "model.summary()"
   ]
  },
  {
   "cell_type": "code",
   "execution_count": 34,
   "metadata": {},
   "outputs": [
    {
     "name": "stdout",
     "output_type": "stream",
     "text": [
      "model fitting - Hierachical attention network\n",
      "Train on 16000 samples, validate on 4000 samples\n",
      "Epoch 1/5\n"
     ]
    },
    {
     "name": "stderr",
     "output_type": "stream",
     "text": [
      "/data/bigData/wangke/atten_ocr_venv/lib/python3.5/site-packages/ipykernel_launcher.py:2: UserWarning: The `nb_epoch` argument in `fit` has been renamed `epochs`.\n",
      "  \n"
     ]
    },
    {
     "name": "stdout",
     "output_type": "stream",
     "text": [
      "16000/16000 [==============================] - 35s 2ms/step - loss: 0.6888 - acc: 0.7871 - val_loss: 0.5816 - val_acc: 0.8275\n",
      "Epoch 2/5\n",
      "16000/16000 [==============================] - 34s 2ms/step - loss: 0.3436 - acc: 0.9041 - val_loss: 0.5007 - val_acc: 0.8600\n",
      "Epoch 3/5\n",
      "16000/16000 [==============================] - 35s 2ms/step - loss: 0.1873 - acc: 0.9539 - val_loss: 0.4831 - val_acc: 0.8732\n",
      "Epoch 4/5\n",
      "16000/16000 [==============================] - 43s 3ms/step - loss: 0.1026 - acc: 0.9803 - val_loss: 0.5008 - val_acc: 0.8712\n",
      "Epoch 5/5\n",
      "16000/16000 [==============================] - 54s 3ms/step - loss: 0.0623 - acc: 0.9875 - val_loss: 0.5168 - val_acc: 0.8742\n"
     ]
    },
    {
     "data": {
      "text/plain": [
       "<keras.callbacks.History at 0x7f262cd59ef0>"
      ]
     },
     "execution_count": 34,
     "metadata": {},
     "output_type": "execute_result"
    }
   ],
   "source": [
    "print(\"model fitting - Hierachical attention network\")\n",
    "model.fit(x_train, y_train, validation_data=(x_val, y_val), nb_epoch=5, batch_size=100)"
   ]
  },
  {
   "cell_type": "code",
   "execution_count": 36,
   "metadata": {},
   "outputs": [
    {
     "data": {
      "text/plain": [
       "(7, 7)"
      ]
     },
     "execution_count": 36,
     "metadata": {},
     "output_type": "execute_result"
    }
   ],
   "source": [
    "np.argmax(model.predict(data[:1])), np.argmax(labels[:1])"
   ]
  },
  {
   "cell_type": "code",
   "execution_count": 37,
   "metadata": {},
   "outputs": [],
   "source": [
    "def text2data(text):\n",
    "    text = ' '.join(jieba.lcut(text))\n",
    "    sentences = cut_sent(text)\n",
    "    _reviews = [sentences]\n",
    "    test_data = np.zeros((1, max_sentences, maxlen), dtype='int32')\n",
    "\n",
    "    for i, sentences in enumerate(_reviews):\n",
    "        for j, sent in enumerate(sentences):\n",
    "            if j < max_sentences:\n",
    "                wordTokens = [_ for _ in jieba.lcut(sent.replace(' ', '')) if _.strip()]\n",
    "                k = 0\n",
    "                for _, word in enumerate(wordTokens):\n",
    "                    if word not in tokenizer.word_index:\n",
    "                        continue\n",
    "                    if k < maxlen and tokenizer.word_index[word] < max_words:\n",
    "                        test_data[i, j, k] = tokenizer.word_index[word]\n",
    "                        k = k + 1\n",
    "    return test_data, sentences"
   ]
  },
  {
   "cell_type": "code",
   "execution_count": 39,
   "metadata": {},
   "outputs": [
    {
     "data": {
      "text/plain": [
       "{0: '彩票',\n",
       " 1: '房产',\n",
       " 2: '游戏',\n",
       " 3: '社会',\n",
       " 4: '股票',\n",
       " 5: '教育',\n",
       " 6: '财经',\n",
       " 7: '时政',\n",
       " 8: '科技',\n",
       " 9: '家居',\n",
       " 10: '时尚',\n",
       " 11: '体育',\n",
       " 12: '娱乐',\n",
       " 13: '星座'}"
      ]
     },
     "execution_count": 39,
     "metadata": {},
     "output_type": "execute_result"
    }
   ],
   "source": [
    "cls2idx = {'体育': 11,\n",
    " '娱乐': 12,\n",
    " '家居': 9,\n",
    " '彩票': 0,\n",
    " '房产': 1,\n",
    " '教育': 5,\n",
    " '时尚': 10,\n",
    " '时政': 7,\n",
    " '星座': 13,\n",
    " '游戏': 2,\n",
    " '社会': 3,\n",
    " '科技': 8,\n",
    " '股票': 4,\n",
    " '财经': 6}\n",
    "cls2idx\n",
    "\n",
    "idx2cls = {i:c for c, i in cls2idx.items()}\n",
    "idx2cls"
   ]
  },
  {
   "cell_type": "code",
   "execution_count": 108,
   "metadata": {},
   "outputs": [
    {
     "name": "stdout",
     "output_type": "stream",
     "text": [
      "Label:  科技\n"
     ]
    }
   ],
   "source": [
    "testvec, testsents = text2data(\"\"\"\n",
    "据路透社报道，美国国家科技政策办公室周一要求研究人员使用人工智能技术分析约2.9万篇学术论文，以回答有关新冠病毒的关键问题。\n",
    "\n",
    "白宫设立的这个办公室表示，已与微软和谷歌等公司合作，编纂了可供研究人员使用的有关新冠病毒的最广泛的学术论文数据库。\n",
    "\n",
    "世界卫生组织(WHO)和美国疾病控制和预防中心(CDC)表示，他们希望为更好地了解新冠病毒的起源和传播提供帮助，以协助开发疫苗和治疗方法。\n",
    "\n",
    "在白宫工作的美国首席技术官Michael Kratsios在一次电话会议上告诉记者，他们希望计算机能够比人类更快地扫描研究结果，并发现人类可能错过的发现。\n",
    "\n",
    "报道指出，机器学习(Machine learning)是人工智能的一种形式，其软件被设计用于自行检测数据中的模式，目前已被医疗保健和其他行业用于从大量文本中开发摘要。但在它能够有效地得出结论之前，有时需要分析数百万个类似的内容。\n",
    "\n",
    "\"\"\")\n",
    "cls_int = np.argmax(model.predict(testvec))\n",
    "print('Label: ', idx2cls[cls_int])"
   ]
  },
  {
   "cell_type": "code",
   "execution_count": 46,
   "metadata": {},
   "outputs": [],
   "source": [
    "import matplotlib.pyplot as plt"
   ]
  },
  {
   "cell_type": "code",
   "execution_count": 58,
   "metadata": {},
   "outputs": [
    {
     "name": "stdout",
     "output_type": "stream",
     "text": [
      "4000/4000 [==============================] - 5s 1ms/step\n"
     ]
    }
   ],
   "source": [
    "y_pred = model.predict(x_val, verbose=1)"
   ]
  },
  {
   "cell_type": "code",
   "execution_count": 60,
   "metadata": {},
   "outputs": [],
   "source": [
    "y_pred = [np.argmax(_) for _ in y_pred]"
   ]
  },
  {
   "cell_type": "code",
   "execution_count": 62,
   "metadata": {},
   "outputs": [],
   "source": [
    "from sklearn.metrics import confusion_matrix"
   ]
  },
  {
   "cell_type": "code",
   "execution_count": 72,
   "metadata": {},
   "outputs": [
    {
     "data": {
      "text/plain": [
       "dict_values(['彩票', '房产', '游戏', '社会', '股票', '教育', '财经', '时政', '科技', '家居', '时尚', '体育', '娱乐', '星座'])"
      ]
     },
     "execution_count": 72,
     "metadata": {},
     "output_type": "execute_result"
    }
   ],
   "source": [
    "labels=idx2cls.values()\n",
    "idx2cls.values()"
   ]
  },
  {
   "cell_type": "code",
   "execution_count": 75,
   "metadata": {},
   "outputs": [],
   "source": [
    "pred_cm = confusion_matrix(np.array([np.argmax(_) for _ in y_val]), np.array(y_pred))"
   ]
  },
  {
   "cell_type": "code",
   "execution_count": 77,
   "metadata": {},
   "outputs": [
    {
     "data": {
      "text/plain": [
       "<matplotlib.axes._subplots.AxesSubplot at 0x7f25c00fb400>"
      ]
     },
     "execution_count": 77,
     "metadata": {},
     "output_type": "execute_result"
    },
    {
     "data": {
      "image/png": "[encoded data removed]",
      "text/plain": [
       "<Figure size 720x504 with 2 Axes>"
      ]
     },
     "metadata": {
      "needs_background": "light"
     },
     "output_type": "display_data"
    }
   ],
   "source": [
    "import seaborn as sn\n",
    "\n",
    "df_cm = pd.DataFrame(pred_cm, index = [i for i in idx2cls.values()],\n",
    "                  columns = [i for i in idx2cls.values()])\n",
    "plt.figure(figsize = (10,7))\n",
    "sn.heatmap(df_cm, annot=True)"
   ]
  },
  {
   "cell_type": "code",
   "execution_count": 78,
   "metadata": {},
   "outputs": [],
   "source": [
    "from sklearn.metrics import classification_report"
   ]
  },
  {
   "cell_type": "code",
   "execution_count": 84,
   "metadata": {},
   "outputs": [],
   "source": [
    "from pprint import pprint"
   ]
  },
  {
   "cell_type": "code",
   "execution_count": 89,
   "metadata": {},
   "outputs": [
    {
     "name": "stdout",
     "output_type": "stream",
     "text": [
      "              precision    recall  f1-score   support\n",
      "\n",
      "          彩票       0.79      0.67      0.72        39\n",
      "          房产       0.75      0.75      0.75       100\n",
      "          游戏       0.64      0.65      0.64       111\n",
      "          社会       0.78      0.87      0.82       238\n",
      "          股票       0.93      0.92      0.92       763\n",
      "          教育       0.85      0.88      0.87       219\n",
      "          财经       0.68      0.79      0.73       169\n",
      "          时政       0.81      0.85      0.83       301\n",
      "          科技       0.94      0.89      0.91       807\n",
      "          家居       0.84      0.73      0.78       143\n",
      "          时尚       0.52      0.57      0.55        61\n",
      "          体育       0.96      0.97      0.96       594\n",
      "          娱乐       0.92      0.91      0.91       439\n",
      "          星座       0.00      0.00      0.00        16\n",
      "\n",
      "    accuracy                           0.87      4000\n",
      "   macro avg       0.74      0.75      0.74      4000\n",
      "weighted avg       0.87      0.87      0.87      4000\n",
      "\n"
     ]
    }
   ],
   "source": [
    "print(classification_report([np.argmax(_) for _ in y_val], y_pred, target_names=[_ for _ in idx2cls.values()]))"
   ]
  },
  {
   "cell_type": "code",
   "execution_count": 94,
   "metadata": {},
   "outputs": [
    {
     "name": "stdout",
     "output_type": "stream",
     "text": [
      "              precision    recall  f1-score   support\n",
      "\n",
      "           0       0.79      0.67      0.72        39\n",
      "           1       0.75      0.75      0.75       100\n",
      "           2       0.64      0.65      0.64       111\n",
      "           3       0.78      0.87      0.82       238\n",
      "           4       0.93      0.92      0.92       763\n",
      "           5       0.85      0.88      0.87       219\n",
      "           6       0.68      0.79      0.73       169\n",
      "           7       0.81      0.85      0.83       301\n",
      "           8       0.94      0.89      0.91       807\n",
      "           9       0.84      0.73      0.78       143\n",
      "          10       0.52      0.57      0.55        61\n",
      "          11       0.96      0.97      0.96       594\n",
      "          12       0.92      0.91      0.91       439\n",
      "          13       0.00      0.00      0.00        16\n",
      "\n",
      "    accuracy                           0.87      4000\n",
      "   macro avg       0.74      0.75      0.74      4000\n",
      "weighted avg       0.87      0.87      0.87      4000\n",
      "\n"
     ]
    }
   ],
   "source": [
    "print(classification_report([np.argmax(_) for _ in y_val], y_pred))"
   ]
  },
  {
   "cell_type": "code",
   "execution_count": 93,
   "metadata": {},
   "outputs": [
    {
     "data": {
      "text/plain": [
       "<matplotlib.axes._subplots.AxesSubplot at 0x7f256c539a58>"
      ]
     },
     "execution_count": 93,
     "metadata": {},
     "output_type": "execute_result"
    },
    {
     "data": {
      "image/png": "[encoded data removed]",
      "text/plain": [
       "<Figure size 432x288 with 1 Axes>"
      ]
     },
     "metadata": {
      "needs_background": "light"
     },
     "output_type": "display_data"
    }
   ],
   "source": [
    "input_data.label.value_counts().plot(kind='bar')"
   ]
  },
  {
   "cell_type": "code",
   "execution_count": null,
   "metadata": {},
   "outputs": [],
   "source": []
  }
 ],
 "metadata": {
  "kernelspec": {
   "display_name": "Python 3",
   "language": "python",
   "name": "python3"
  },
  "language_info": {
   "codemirror_mode": {
    "name": "ipython",
    "version": 3
   },
   "file_extension": ".py",
   "mimetype": "text/x-python",
   "name": "python",
   "nbconvert_exporter": "python",
   "pygments_lexer": "ipython3",
   "version": "3.5.2"
  }
 },
 "nbformat": 4,
 "nbformat_minor": 4
}
